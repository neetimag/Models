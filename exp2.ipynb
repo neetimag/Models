{
  "nbformat": 4,
  "nbformat_minor": 0,
  "metadata": {
    "colab": {
      "name": "Untitled0.ipynb",
      "provenance": [],
      "collapsed_sections": [],
      "authorship_tag": "ABX9TyP/bxqKQrMnSvK89BTKg8GZ",
      "include_colab_link": true
    },
    "kernelspec": {
      "name": "python3",
      "display_name": "Python 3"
    },
    "language_info": {
      "name": "python"
    }
  },
  "cells": [
    {
      "cell_type": "markdown",
      "metadata": {
        "id": "view-in-github",
        "colab_type": "text"
      },
      "source": [
        "<a href=\"https://colab.research.google.com/github/neetimag/Models/blob/main/exp2.ipynb\" target=\"_parent\"><img src=\"https://colab.research.google.com/assets/colab-badge.svg\" alt=\"Open In Colab\"/></a>"
      ]
    },
    {
      "cell_type": "code",
      "metadata": {
        "id": "aKaYqleyhopY"
      },
      "source": [
        "import tensorflow as tf\n",
        "#from tensorflow import keras\n",
        "import matplotlib.pyplot as plt\n",
        "%matplotlib inline\n",
        "import numpy as np\n",
        "import pandas as pd\n"
      ],
      "execution_count": 25,
      "outputs": []
    },
    {
      "cell_type": "code",
      "metadata": {
        "id": "3_LbLBTNi-oc"
      },
      "source": [
        "df = pd.read_csv('/content/dataset.csv')"
      ],
      "execution_count": 26,
      "outputs": []
    },
    {
      "cell_type": "code",
      "metadata": {
        "id": "6YEG5q5xjj8L"
      },
      "source": [
        "mask = np.random.rand(len(df)) <= 0.8\n",
        "training_data = df[mask]\n",
        "testing_data = df[~mask]"
      ],
      "execution_count": 27,
      "outputs": []
    },
    {
      "cell_type": "code",
      "metadata": {
        "id": "QSAA_2EBqcKO"
      },
      "source": [
        "n_x = 2\n",
        "n_h = 10\n",
        "n_y = 1\n",
        "layers_dims = (n_x, n_h, n_y)"
      ],
      "execution_count": 47,
      "outputs": []
    },
    {
      "cell_type": "code",
      "metadata": {
        "id": "GjAjsodcuO7g"
      },
      "source": [
        "def initialize_parameters(n_x, n_h, n_y):\n",
        "  np.random.seed(1)\n",
        "  W1 = np.random.randn(n_h, n_x) * 0.01\n",
        "  b1 = np.zeros(shape=(n_h, 1))\n",
        "  W2 = np.random.randn(n_y, n_h) * 0.01\n",
        "  b2 = np.zeros(shape=(n_y, 1))"
      ],
      "execution_count": 50,
      "outputs": []
    }
  ]
}